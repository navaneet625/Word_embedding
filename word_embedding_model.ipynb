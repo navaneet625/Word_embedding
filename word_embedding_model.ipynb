{
  "cells": [
    {
      "cell_type": "code",
      "execution_count": null,
      "metadata": {
        "colab": {
          "base_uri": "https://localhost:8080/"
        },
        "id": "YY8zKgqY-uXn",
        "outputId": "dbd17d4d-ddff-44ae-d03e-56518765c621"
      },
      "outputs": [
        {
          "output_type": "stream",
          "name": "stdout",
          "text": [
            "[nltk_data] Downloading package punkt to /root/nltk_data...\n",
            "[nltk_data]   Package punkt is already up-to-date!\n"
          ]
        },
        {
          "output_type": "execute_result",
          "data": {
            "text/plain": [
              "True"
            ]
          },
          "metadata": {},
          "execution_count": 154
        }
      ],
      "source": [
        "import re\n",
        "import nltk\n",
        "from nltk.tokenize import word_tokenize\n",
        "import numpy as np\n",
        "import random\n",
        "import keras.backend as K\n",
        "from keras.models import Sequential\n",
        "from keras.layers import Dense, Embedding, Lambda,Activation,Dropout\n",
        "from sklearn.utils import shuffle\n",
        "import numpy as np\n",
        "from keras import layers\n",
        "from keras.models import Model\n",
        "import scipy\n",
        "from scipy import sparse\n",
        "from sklearn.decomposition import TruncatedSVD\n",
        "import pickle\n",
        "from sklearn.manifold import TSNE\n",
        "import matplotlib.pyplot as plt\n",
        "import matplotlib.cm as cm\n",
        "\n",
        "nltk.download('punkt')"
      ]
    },
    {
      "cell_type": "code",
      "execution_count": null,
      "metadata": {
        "colab": {
          "base_uri": "https://localhost:8080/"
        },
        "id": "tzn4oNm8p4wi",
        "outputId": "283e66fd-c473-4136-b21c-080710d814de"
      },
      "outputs": [
        {
          "output_type": "stream",
          "name": "stdout",
          "text": [
            "Drive already mounted at /content/drive; to attempt to forcibly remount, call drive.mount(\"/content/drive\", force_remount=True).\n"
          ]
        }
      ],
      "source": [
        "# Load the Drive helper and mount\n",
        "from google.colab import drive\n",
        "\n",
        "# This will prompt for authorization.\n",
        "drive.mount('/content/drive')"
      ]
    },
    {
      "cell_type": "code",
      "execution_count": null,
      "metadata": {
        "id": "Xs0NdqFXq048"
      },
      "outputs": [],
      "source": [
        "file_path = 'drive/My Drive/reviews_Electronics_5.json.gz'"
      ]
    },
    {
      "cell_type": "code",
      "execution_count": null,
      "metadata": {
        "id": "46LHdW5NsC6m"
      },
      "outputs": [],
      "source": [
        "import pandas as pd\n",
        "import gzip\n",
        "\n",
        "def parse(path):\n",
        "  g = gzip.open(path, 'rb')\n",
        "  for l in g:\n",
        "    yield eval(l)\n",
        "\n",
        "def getDF(path):\n",
        "  i = 0\n",
        "  df = {}\n",
        "  for d in parse(path):\n",
        "    df[i] = d\n",
        "    i += 1\n",
        "  return pd.DataFrame.from_dict(df, orient='index')\n",
        "\n",
        "df = getDF(file_path)"
      ]
    },
    {
      "cell_type": "code",
      "execution_count": null,
      "metadata": {
        "colab": {
          "base_uri": "https://localhost:8080/"
        },
        "id": "kTt-Zap7snkv",
        "outputId": "c150c7ef-ccc1-4530-952d-08bbd12c5511"
      },
      "outputs": [
        {
          "output_type": "execute_result",
          "data": {
            "text/plain": [
              "1689188"
            ]
          },
          "metadata": {},
          "execution_count": 13
        }
      ],
      "source": [
        "data = df['reviewText']\n",
        "data = data.values\n",
        "len(data)"
      ]
    },
    {
      "cell_type": "code",
      "source": [
        "def clean_data_1(data,text,tokens,i):\n",
        "\tpunc = ('(', ')', '?', ':', ';', ',', '.', '!', '/', '-','\"', \"'\", '{', '}', '[', ']', '_', '+', '=')\n",
        "\tnewtext = \"\"\n",
        "\tfor w in text.split(' '):\n",
        "\t\tif len(w)>=2 and w[-1] in punc and type(w)!=list:\n",
        "\t\t\tw = w[:-1]+\" \"+w[-1]\n",
        "\t\tnewtext+=w+\" \"\n",
        "            \n",
        "\ttweet = newtext.strip()\n",
        "                        \n",
        "\tdata[i] = text\n",
        "\ttokens.extend(data[i].split())\n",
        "\n",
        "def clean_data(data,tokens):\t\n",
        "\n",
        "\tfor i in range(len(data)):\n",
        "\t\tencoded_string = data[i].encode(\"ascii\", \"ignore\")\n",
        "\n",
        "\t\ttext = encoded_string.decode()\n",
        "\t\ttext = text.strip()\n",
        "\t\ttext = re.sub(r'\\n',' ',text)\n",
        "\t\tspecialchars = ('{','}','!','#','$','%','^','&','*','(',')','<','>','+','-','/','~','`',':',';','_','=','|','?','@','[',']')\n",
        "            \n",
        "\t\ttext = re.sub(r'http?://[\\n\\S]+', '<URL>',text)\n",
        "\t\ttext = re.sub(r'#[\\n\\S]+\\b', '<HASHTAG>',text)\n",
        "\t\ttext = re.sub(r'@[\\n\\S]+\\b', '<MENTION>',text)\n",
        "\n",
        "\t\tfor k in specialchars:  ## remove duplicate characters \n",
        "\t\t\ttext = re.sub(r'\\{}+'.format(k),k,text)\n",
        "\n",
        "\t\tclean_data_1(data,text,tokens,i)\n",
        "\n",
        "\n",
        "def Tokenize(data):\n",
        "\tdata = re.split('(?<!\\w\\.\\w.)(?<![A-Z][a-z]\\.)(?<=\\.|\\?)\\s',data)\n",
        "\ttokens = []\n",
        "\tclean_data(data,tokens)\n",
        "\treturn tokens"
      ],
      "metadata": {
        "id": "vnJFy1x6bKGW"
      },
      "execution_count": null,
      "outputs": []
    },
    {
      "cell_type": "code",
      "execution_count": null,
      "metadata": {
        "id": "Y8Bc2Ir3qzDR",
        "colab": {
          "base_uri": "https://localhost:8080/"
        },
        "outputId": "cd10af5f-8056-4814-c09d-fa9aa5585ae9"
      },
      "outputs": [
        {
          "output_type": "stream",
          "name": "stdout",
          "text": [
            "29230 29230 29230 2202536 29230\n"
          ]
        }
      ],
      "source": [
        "def tokenize(d):\n",
        "  d = re.sub(r'[,!?;-]+', '.', d)\n",
        "  d = nltk.word_tokenize(d)  # tokenize string to words\n",
        "  d = [ ch.lower() for ch in d\n",
        "  if ch.isalpha() #Check if all the characters in the text are letters\n",
        "    or ch == '.']\n",
        "  return d\n",
        "\n",
        "def helper_fun(data):\n",
        "  word2Ind , Ind2word , wordfreq = dict() ,dict() , dict()\n",
        "  text_corpus = []\n",
        "\n",
        "  a = 0\n",
        "  for d in data:\n",
        "    if a >=20000:\n",
        "      break\n",
        "    a+=1\n",
        "    d = tokenize(d)\n",
        "    #d = Tokenize(d)\n",
        "    text_corpus.extend(d)\n",
        "  \n",
        "  vocab = sorted(list(set(text_corpus)))\n",
        "\n",
        "  for word in text_corpus:\n",
        "    if word in wordfreq:\n",
        "      wordfreq[word]+=1\n",
        "    else:\n",
        "      wordfreq[word]=1\n",
        "\n",
        "  idx = 0    \n",
        "  for word in vocab:\n",
        "    word2Ind[word]=idx\n",
        "    Ind2word[idx]=word\n",
        "    idx+=1\n",
        "  return word2Ind,Ind2word,wordfreq,text_corpus,vocab\n",
        "\n",
        "\n",
        "word2Ind,Ind2word,wordfreq,text_corpus,vocab = helper_fun(data)\n",
        "print(len(word2Ind),len(Ind2word),len(wordfreq),len(text_corpus),len(vocab))"
      ]
    },
    {
      "cell_type": "code",
      "execution_count": null,
      "metadata": {
        "id": "ubbN1YboqUmZ"
      },
      "outputs": [],
      "source": [
        "def get_windows(words, C):\n",
        "    i = C\n",
        "    while i < len(words) - C:\n",
        "        center_word = words[i]\n",
        "        context_words = words[(i - C):i] + words[(i+1):(i+C+1)]\n",
        "        yield context_words, center_word\n",
        "        i += 1\n",
        "\n",
        "        \n",
        "def generate_context_word(text_corpus,C):\n",
        "  context_and_center_word = []\n",
        "  for x,y in get_windows(text_corpus,2):\n",
        "    x +=[y]\n",
        "    context_and_center_word.append(x)\n",
        "  return context_and_center_word\n",
        "context_and_center_word = generate_context_word(text_corpus,2)"
      ]
    },
    {
      "cell_type": "markdown",
      "source": [
        "#1. Frequency based embedding:\n",
        "##Co-Occurrence Matrix with a fixed context window"
      ],
      "metadata": {
        "id": "MLmgOObPLovO"
      }
    },
    {
      "cell_type": "markdown",
      "source": [
        "#Co-occurance matrix"
      ],
      "metadata": {
        "id": "rsV15lJAfqUX"
      }
    },
    {
      "cell_type": "code",
      "source": [
        "def find_co_occurence_matrix(text_corpus,word2Ind,context_and_center_word):\n",
        "    \n",
        "    co_occurrence_matrix = None\n",
        "    co_occurrence_matrix = sparse.lil_matrix((len(word2Ind), len(word2Ind)),dtype=np.float64)\n",
        "    print(co_occurrence_matrix.shape)\n",
        "\n",
        "    for context in context_and_center_word:\n",
        "      l1,l2,r1,r2,c = context\n",
        "      co_occurrence_matrix[word2Ind[l1],word2Ind[c]] +=1.0\n",
        "      co_occurrence_matrix[word2Ind[l2],word2Ind[c]] +=1.0\n",
        "      co_occurrence_matrix[word2Ind[c],word2Ind[r1]] +=1.0\n",
        "      co_occurrence_matrix[word2Ind[c],word2Ind[r1]] +=1.0 \n",
        "    co_occurrence_matrix.setdiag(1.0)\n",
        "    return co_occurrence_matrix"
      ],
      "metadata": {
        "id": "IQWfX_nQf0d4"
      },
      "execution_count": null,
      "outputs": []
    },
    {
      "cell_type": "code",
      "source": [
        "co_occurence_matrix = find_co_occurence_matrix(text_corpus,word2Ind,context_and_center_word)\n",
        "co_occurence_matrix\n"
      ],
      "metadata": {
        "colab": {
          "base_uri": "https://localhost:8080/"
        },
        "id": "jvcGsqP3iJqd",
        "outputId": "2f557b4d-e254-406d-b930-54c73e0797df"
      },
      "execution_count": null,
      "outputs": [
        {
          "output_type": "stream",
          "name": "stdout",
          "text": [
            "(29230, 29230)\n"
          ]
        },
        {
          "output_type": "execute_result",
          "data": {
            "text/plain": [
              "<29230x29230 sparse matrix of type '<class 'numpy.float64'>'\n",
              "\twith 869435 stored elements in List of Lists format>"
            ]
          },
          "metadata": {},
          "execution_count": 132
        }
      ]
    },
    {
      "cell_type": "code",
      "source": [
        "with open('co_occurrence', 'wb') as fp:\n",
        "    pickle.dump(co_occurence_matrix, fp)"
      ],
      "metadata": {
        "id": "szWMo3_TF4cb"
      },
      "execution_count": null,
      "outputs": []
    },
    {
      "cell_type": "markdown",
      "source": [
        "#SVD on co occurence matrix\n"
      ],
      "metadata": {
        "id": "dI6Oz3c-Bahd"
      }
    },
    {
      "cell_type": "code",
      "source": [
        "def svd(co_occurence_matrix):\n",
        "    sum_variance = []\n",
        "    params = range(10,100,10)\n",
        "    for p in params:\n",
        "        svd = TruncatedSVD(n_components=p)\n",
        "        svd.fit(co_occurence_matrix)\n",
        "        var = round(svd.explained_variance_ratio_.sum(),3)\n",
        "        sum_variance.append(var)\n",
        "\n",
        "    index_max = sum_variance.index(max(sum_variance))\n",
        "    bestdim = params[index_max]\n",
        "    svd = TruncatedSVD(n_components=p)\n",
        "    X = svd.fit(co_occurence_matrix)\n",
        "    return X,bestdim\n",
        "\n",
        "\n",
        "X_trunc,bestd  = svd(co_occurence_matrix)\n"
      ],
      "metadata": {
        "id": "7U75Gb8ZBfXD"
      },
      "execution_count": null,
      "outputs": []
    },
    {
      "cell_type": "code",
      "source": [
        "svd = TruncatedSVD(n_components=bestd)\n",
        "X_trunc = svd.fit_transform(co_occurence_matrix)"
      ],
      "metadata": {
        "id": "Q92Ndi7PEHbR"
      },
      "execution_count": null,
      "outputs": []
    },
    {
      "cell_type": "code",
      "source": [
        "with open('svd', 'wb') as fp:\n",
        "    pickle.dump(X_trunc, fp)"
      ],
      "metadata": {
        "id": "YlD2o1P2GDND"
      },
      "execution_count": null,
      "outputs": []
    },
    {
      "cell_type": "markdown",
      "source": [
        "#Analysis"
      ],
      "metadata": {
        "id": "uNt-NN0FIJhJ"
      }
    },
    {
      "cell_type": "code",
      "source": [
        "sample_words = ['always','basement', 'darkest','leader','pay']"
      ],
      "metadata": {
        "id": "m-iaXoSnIIkH"
      },
      "execution_count": null,
      "outputs": []
    },
    {
      "cell_type": "code",
      "source": [
        "def compute_final_words(vec,id,num,Ind2word):\n",
        "  sim = []\n",
        "  words = []\n",
        "  for idx in range(0,len(vocab)):\n",
        "    if idx!=id:\n",
        "      next = X_trunc[idx]\n",
        "      sim.append(1.0 - scipy.spatial.distance.cosine(next,vec))\n",
        "      words.append(Ind2word[idx])\n",
        "  nearest = sorted(zip(sim, words),reverse=True)[:num]\n",
        "  final_words = []\n",
        "  for sim,w in nearest:\n",
        "    final_words.append(w)\n",
        "    print(w,sim)\n",
        "  print()\n",
        "  return final_words\n",
        "\n",
        "def nearest_words(vocab,word2Ind,Ind2word,word,num=10):\n",
        "  if word not in vocab:\n",
        "    print(\"given word not present in the input \")\n",
        "  else:\n",
        "    id  = word2Ind[word]\n",
        "    vec = X_trunc[id]\n",
        "    return compute_final_words(vec,id,num,Ind2word)\n"
      ],
      "metadata": {
        "id": "jAZ9Q5CTIzRt"
      },
      "execution_count": null,
      "outputs": []
    },
    {
      "cell_type": "code",
      "source": [
        "similar = dict()\n",
        "similar_word = []\n",
        "for w in sample_words:\n",
        "  similar[w] = nearest_words(vocab,word2Ind,Ind2word,w,num=10)\n",
        "  similar_word.extend(similar[w])"
      ],
      "metadata": {
        "colab": {
          "base_uri": "https://localhost:8080/"
        },
        "id": "9ZXJILa1LeqX",
        "outputId": "ee049fcc-e1dc-4cb8-9568-e146d06a6197"
      },
      "execution_count": null,
      "outputs": [
        {
          "output_type": "stream",
          "name": "stdout",
          "text": [
            "already 0.8410825033120323\n",
            "still 0.8180427427526878\n",
            "not 0.7871899692274181\n",
            "actually 0.7801587666685462\n",
            "also 0.7356777479116572\n",
            "have 0.7292689413118997\n",
            "never 0.7258792150491332\n",
            "typically 0.7205328379872039\n",
            "usually 0.7168764260739218\n",
            "has 0.709146114244936\n",
            "\n",
            "laptop 0.9902291375891341\n",
            "games 0.9839854575305471\n",
            "computer 0.9819193010938787\n",
            "hdtv 0.979148134693322\n",
            "memos 0.9786831520088677\n",
            "modem 0.9783863630526972\n",
            "garage 0.978365070386736\n",
            "laptops 0.9775779014183799\n",
            "phone 0.9766952189421442\n",
            "closet 0.9765470816725937\n",
            "\n",
            "nailing 0.9663156840695792\n",
            "blaming 0.9478921448347581\n",
            "grandsons 0.9457968676328915\n",
            "raises 0.9123343124673489\n",
            "inaugurated 0.8781806993601368\n",
            "harmless 0.8513908945604156\n",
            "glancing 0.8506660715734019\n",
            "deepanker 0.8506601562125014\n",
            "alarmed 0.8506557211076967\n",
            "worship 0.8506534249672413\n",
            "\n",
            "jagged 0.984783168669845\n",
            "pride 0.983229721513904\n",
            "bult 0.9828754803496395\n",
            "sneaks 0.9828706157953515\n",
            "iterested 0.9828693184536867\n",
            "inching 0.9828691638760354\n",
            "soaked 0.9822190414168616\n",
            "explicit 0.9804411103625297\n",
            "madly 0.9800452318212493\n",
            "pale 0.9748688503424214\n",
            "\n",
            "waiting 0.9767553257701348\n",
            "paid 0.9734175252682598\n",
            "ask 0.9666897482711619\n",
            "accounting 0.9654771424047532\n",
            "hunt 0.9643704673423772\n",
            "looking 0.9638010811526344\n",
            "paying 0.9616729570871518\n",
            "substitute 0.9590746477765816\n",
            "responsible 0.9566161635382932\n",
            "bargained 0.9545480223206718\n",
            "\n"
          ]
        }
      ]
    },
    {
      "cell_type": "markdown",
      "source": [
        "10 nearest word for word 'camera' using word embedding model"
      ],
      "metadata": {
        "id": "eaSgVqaIOQJO"
      }
    },
    {
      "cell_type": "code",
      "source": [
        "similar[w] = nearest_words(vocab,word2Ind,Ind2word,'camera',num=10)\n",
        "similar_word.extend(similar[w])"
      ],
      "metadata": {
        "colab": {
          "base_uri": "https://localhost:8080/"
        },
        "id": "t80mf3_0NcY7",
        "outputId": "adcafcf2-0846-4269-edbe-c93ed60dca90"
      },
      "execution_count": null,
      "outputs": [
        {
          "output_type": "stream",
          "name": "stdout",
          "text": [
            "antenna 0.994439742472162\n",
            "lens 0.992465781238871\n",
            "palm 0.9920087607973263\n",
            "receiver 0.9919921981410513\n",
            "player 0.9919531330879344\n",
            "cradle 0.9917315379052744\n",
            "reader 0.991482346196552\n",
            "system 0.9913066438809595\n",
            "hardware 0.9910211613073194\n",
            "card 0.9906212489478338\n",
            "\n"
          ]
        }
      ]
    },
    {
      "cell_type": "markdown",
      "source": [
        "#2. Prediction based embedding\n",
        "## Continuous Bag of Words(CBOW) with negative sampling"
      ],
      "metadata": {
        "id": "fbA4WWcyL93A"
      }
    },
    {
      "cell_type": "markdown",
      "source": [
        "#CBOW model"
      ],
      "metadata": {
        "id": "kSFybeOofmaK"
      }
    },
    {
      "cell_type": "code",
      "source": [
        "totalWords = sum([freq**(3/4) for freq in wordfreq.values()])\n",
        "print(totalWords)\n",
        "wordProb = {word:(freq**(3/4))/totalWords for word, freq in wordfreq.items()}\n",
        "word_pos_indices = {w:set() for word,w in word2Ind.items()}\n",
        "\n",
        "ind2prob = {}\n",
        "for word,id in word2Ind.items():\n",
        "  ind2prob[id] = wordProb[word]"
      ],
      "metadata": {
        "colab": {
          "base_uri": "https://localhost:8080/"
        },
        "id": "XJ4iQ62lVB6K",
        "outputId": "0f86feca-1ff0-4510-e94c-d235efb17722"
      },
      "execution_count": null,
      "outputs": [
        {
          "output_type": "stream",
          "name": "stdout",
          "text": [
            "348604.00429825176\n"
          ]
        }
      ]
    },
    {
      "cell_type": "code",
      "source": [
        "def find_pos_sample(context_and_center_word,wordProb,word2Ind,word_pos_indices):\n",
        "  context_c_vector = []\n",
        "  for x in context_and_center_word:\n",
        "    new_list=[]\n",
        "    for y in x:\n",
        "      new_list.append(wordProb[y])\n",
        "      index_word = word2Ind[x[-1]]\n",
        "      word_pos_indices[index_word].add(word2Ind[y])\n",
        "    context_c_vector.append(new_list)\n",
        "  return np.array(context_c_vector)"
      ],
      "metadata": {
        "id": "n5MzqeTcb2rh"
      },
      "execution_count": null,
      "outputs": []
    },
    {
      "cell_type": "code",
      "source": [
        "positive_sample = find_pos_sample(context_and_center_word,wordProb,word2Ind,word_pos_indices)\n",
        "print(len(positive_sample))"
      ],
      "metadata": {
        "colab": {
          "base_uri": "https://localhost:8080/"
        },
        "id": "BoCXKoo-PHsd",
        "outputId": "d3c6adac-00ae-41fb-fdf0-0ecf5d89c49b"
      },
      "execution_count": null,
      "outputs": [
        {
          "output_type": "stream",
          "name": "stdout",
          "text": [
            "2202532\n"
          ]
        }
      ]
    },
    {
      "cell_type": "markdown",
      "source": [
        "### preparing negative sample data "
      ],
      "metadata": {
        "id": "COxeUi6GMPSh"
      }
    },
    {
      "cell_type": "code",
      "source": [
        "negative_samples = []\n",
        "negative_keys = set()\n",
        "\n",
        "def negIdx(word2Ind,word_pos_indices):\n",
        "  n = len(word2Ind)\n",
        "  pos_indices = sorted(list(word_pos_indices[id]))\n",
        "  raw_samp = np.arange(0, n - len(pos_indices))\n",
        "  pos_inds_adj = pos_indices - np.arange(len(pos_indices))\n",
        "  ss = np.searchsorted(pos_inds_adj, raw_samp, side='right')\n",
        "  neg_inds = raw_samp + ss\n",
        "  return neg_inds\n",
        "\n",
        "def fun(C,neg_inds,ind2prob):\n",
        "  for j in range(k):\n",
        "    sample = set()\n",
        "    check_sample = []\n",
        "    cnt = 0\n",
        "    while(cnt<2*C):\n",
        "      r = random.choice(neg_inds)\n",
        "      if ind2prob[r] in sample:\n",
        "        continue\n",
        "      else:\n",
        "        check_sample.append(r)\n",
        "        sample.add(ind2prob[r])\n",
        "        cnt+=1\n",
        "    sample = list(sample)\n",
        "    check_sample.sort()\n",
        "    check_sample.append(id)\n",
        "    sample.append(ind2prob[id])\n",
        "    if tuple(check_sample) in negative_keys:\n",
        "      continue\n",
        "    else:\n",
        "      negative_keys.add(tuple(check_sample))\n",
        "      negative_samples.append(np.array(sample))\n",
        "\n",
        "\n",
        "C = 2\n",
        "count=0\n",
        "k=50\n",
        "for word,id in word2Ind.items():\n",
        "  neg_inds = negIdx(word2Ind,word_pos_indices)\n",
        "  fun(C,neg_inds,ind2prob)\n",
        "  \n",
        "  if count%10000==0 and count!=0:\n",
        "    print(\"number of itereation :\",count)\n",
        "  count+=1\n",
        "negative_samples = np.array(negative_samples)\n",
        "len(negative_samples)"
      ],
      "metadata": {
        "id": "RwsJHygCBzfT",
        "colab": {
          "base_uri": "https://localhost:8080/"
        },
        "outputId": "5c376fb8-9e61-49e1-9d4a-ff8d1f0f1cb5"
      },
      "execution_count": null,
      "outputs": [
        {
          "output_type": "stream",
          "name": "stdout",
          "text": [
            "number of itereation : 10000\n",
            "number of itereation : 20000\n"
          ]
        },
        {
          "output_type": "execute_result",
          "data": {
            "text/plain": [
              "1461500"
            ]
          },
          "metadata": {},
          "execution_count": 29
        }
      ]
    },
    {
      "cell_type": "code",
      "source": [
        "X = np.concatenate([np.array(positive_sample), np.array(negative_samples)], axis=0)\n",
        "y = np.concatenate([[1]*len(positive_sample), [0]*len(negative_samples)])\n",
        "\n",
        "X, y = shuffle(X, y)\n",
        "print(X.shape,y.shape)"
      ],
      "metadata": {
        "id": "gVkEBCTYSxqS",
        "colab": {
          "base_uri": "https://localhost:8080/"
        },
        "outputId": "8796d25b-3bd2-4a40-904e-5cb43ae1e0af"
      },
      "execution_count": null,
      "outputs": [
        {
          "output_type": "stream",
          "name": "stdout",
          "text": [
            "(3664032, 5) (3664032,)\n"
          ]
        }
      ]
    },
    {
      "cell_type": "code",
      "source": [
        "def cbow_model(word2Ind,X,y):\n",
        "  dim = [50,100,200]\n",
        "  optim = ['adam','SGD','RMSprop']\n",
        "  for a in dim:\n",
        "    for op in optim:\n",
        "      embedding_layer = layers.Embedding(len(word2Ind),a, \n",
        "                                    embeddings_initializer=\"RandomNormal\",\n",
        "                                    input_shape=(5,))\n",
        "    \n",
        "      cbow = Sequential([embedding_layer,layers.GlobalAveragePooling1D(),layers.Dense(1, activation='sigmoid'),])\n",
        "\n",
        "      cbow.compile(optimizer= op,loss='binary_crossentropy',metrics=['accuracy'])\n",
        "      cbow.fit(X,y, epochs=1,batch_size=10000, verbose=1)\n",
        "cbow_model(word2Ind,X,y)"
      ],
      "metadata": {
        "colab": {
          "base_uri": "https://localhost:8080/"
        },
        "id": "Fs52wqgBS188",
        "outputId": "7629ac93-9b54-41ff-989b-824b9f19c4f6"
      },
      "execution_count": null,
      "outputs": [
        {
          "output_type": "stream",
          "name": "stdout",
          "text": [
            "367/367 [==============================] - 14s 35ms/step - loss: 0.6732 - accuracy: 0.6011\n",
            "367/367 [==============================] - 9s 22ms/step - loss: 0.6753 - accuracy: 0.6011\n",
            "367/367 [==============================] - 8s 19ms/step - loss: 0.6727 - accuracy: 0.6011\n",
            "367/367 [==============================] - 22s 58ms/step - loss: 0.6732 - accuracy: 0.6000\n",
            "367/367 [==============================] - 15s 38ms/step - loss: 0.6757 - accuracy: 0.6011\n",
            "367/367 [==============================] - 20s 51ms/step - loss: 0.6728 - accuracy: 0.6011\n",
            "367/367 [==============================] - 44s 118ms/step - loss: 0.6730 - accuracy: 0.6000\n",
            "367/367 [==============================] - 23s 61ms/step - loss: 0.6769 - accuracy: 0.5905\n",
            "367/367 [==============================] - 27s 72ms/step - loss: 0.6728 - accuracy: 0.6006\n"
          ]
        }
      ]
    },
    {
      "cell_type": "code",
      "source": [
        "embedding_layer = layers.Embedding(len(word2Ind),50, \n",
        "                                    embeddings_initializer=\"RandomNormal\",\n",
        "                                    input_shape=(5,))\n",
        "cbow = Sequential([embedding_layer,layers.GlobalAveragePooling1D(),layers.Dense(1, activation='sigmoid'),])\n",
        "cbow.compile(optimizer= 'adam',loss='binary_crossentropy',metrics=['accuracy'])\n",
        "cbow.summary()\n",
        "cbow.fit(X,y, epochs=2,batch_size=10000, verbose=1)"
      ],
      "metadata": {
        "colab": {
          "base_uri": "https://localhost:8080/"
        },
        "id": "0LvB-beXSb79",
        "outputId": "e163607b-b001-407b-9e07-9408da965368"
      },
      "execution_count": null,
      "outputs": [
        {
          "output_type": "stream",
          "name": "stdout",
          "text": [
            "Model: \"sequential_9\"\n",
            "_________________________________________________________________\n",
            " Layer (type)                Output Shape              Param #   \n",
            "=================================================================\n",
            " embedding_9 (Embedding)     (None, 5, 50)             1461500   \n",
            "                                                                 \n",
            " global_average_pooling1d_9   (None, 50)               0         \n",
            " (GlobalAveragePooling1D)                                        \n",
            "                                                                 \n",
            " dense_9 (Dense)             (None, 1)                 51        \n",
            "                                                                 \n",
            "=================================================================\n",
            "Total params: 1,461,551\n",
            "Trainable params: 1,461,551\n",
            "Non-trainable params: 0\n",
            "_________________________________________________________________\n",
            "Epoch 1/2\n",
            "367/367 [==============================] - 13s 34ms/step - loss: 0.6735 - accuracy: 0.6000\n",
            "Epoch 2/2\n",
            "367/367 [==============================] - 12s 34ms/step - loss: 0.6726 - accuracy: 0.6011\n"
          ]
        },
        {
          "output_type": "execute_result",
          "data": {
            "text/plain": [
              "<keras.callbacks.History at 0x7f84ac0c9350>"
            ]
          },
          "metadata": {},
          "execution_count": 32
        }
      ]
    },
    {
      "cell_type": "code",
      "source": [
        "weights = cbow.get_weights()[0]\n",
        "print(weights)"
      ],
      "metadata": {
        "id": "oATLmxBDYXtR",
        "colab": {
          "base_uri": "https://localhost:8080/"
        },
        "outputId": "8cbb3c19-f2dd-4d34-d1a2-0a2951c71577"
      },
      "execution_count": null,
      "outputs": [
        {
          "output_type": "stream",
          "name": "stdout",
          "text": [
            "[[ 4.03603651e-02  9.67170000e-02 -6.76979274e-02 ... -3.29332352e-02\n",
            "  -7.66970441e-02  2.93372553e-02]\n",
            " [-2.96848884e-05  1.08904980e-01  4.08983231e-03 ... -5.47070168e-02\n",
            "   9.27652568e-02 -4.27199863e-02]\n",
            " [-6.23065494e-02 -1.58598591e-02  3.58302109e-02 ... -4.10533249e-02\n",
            "  -2.24872809e-02  1.94843449e-02]\n",
            " ...\n",
            " [-5.93487313e-03 -3.27911638e-02  3.02086901e-02 ... -3.78171913e-02\n",
            "  -8.04222003e-02 -1.37602603e-02]\n",
            " [ 7.10816542e-03  2.47261990e-02 -1.59933548e-02 ...  6.10520504e-02\n",
            "  -1.17819429e-04  1.19115645e-02]\n",
            " [ 3.65896076e-02 -2.11912226e-02 -7.49712512e-02 ...  3.67597640e-02\n",
            "   9.49614309e-03 -4.52837944e-02]]\n"
          ]
        }
      ]
    },
    {
      "cell_type": "code",
      "source": [
        "embedding_layer(word2Ind['i'])"
      ],
      "metadata": {
        "colab": {
          "base_uri": "https://localhost:8080/"
        },
        "id": "qnv2h23mSXpe",
        "outputId": "ae70557a-0934-44dc-819c-9aa5cff7f576"
      },
      "execution_count": null,
      "outputs": [
        {
          "output_type": "execute_result",
          "data": {
            "text/plain": [
              "<tf.Tensor: shape=(50,), dtype=float32, numpy=\n",
              "array([ 5.7349321e-02,  7.0858911e-02,  3.5229500e-02,  1.9962318e-02,\n",
              "       -3.7097090e-03, -8.6336408e-04,  9.1481162e-03,  1.0296783e-02,\n",
              "       -7.0964755e-03, -7.7855992e-03,  3.0016402e-02, -1.3823777e-02,\n",
              "       -4.2098220e-02,  2.4534421e-02,  2.7217371e-03, -1.4737899e-02,\n",
              "        6.9577865e-02,  2.9340279e-03,  5.3908911e-02,  5.0672092e-03,\n",
              "        4.4184592e-02,  8.9348648e-03,  6.6944622e-02,  5.8305591e-02,\n",
              "        1.7145732e-02, -1.9668451e-02, -2.9166970e-02, -2.3568740e-02,\n",
              "       -1.0929397e-02,  3.0372519e-02,  3.4052726e-02,  4.6268377e-02,\n",
              "        2.3129078e-02,  2.5998900e-02, -6.4781114e-02, -9.1607444e-02,\n",
              "        4.7723337e-05,  2.6123330e-02, -6.3877837e-03, -5.2000802e-02,\n",
              "       -1.3012047e-02,  1.0983963e-01,  5.6695309e-02,  1.2659338e-02,\n",
              "       -2.1063795e-02,  5.3352721e-02, -1.0541013e-02,  4.7565352e-02,\n",
              "        2.1364285e-02,  2.3299668e-02], dtype=float32)>"
            ]
          },
          "metadata": {},
          "execution_count": 34
        }
      ]
    },
    {
      "cell_type": "code",
      "source": [
        "with open('embeddings_cbow', 'wb') as fp:\n",
        "    pickle.dump(embedding_layer, fp)"
      ],
      "metadata": {
        "id": "MKFs1p8uFunR"
      },
      "execution_count": null,
      "outputs": []
    },
    {
      "cell_type": "code",
      "source": [
        "cbow.save(\"cbow_model.h5\")\n"
      ],
      "metadata": {
        "id": "BKTfZMCLCNUd"
      },
      "execution_count": null,
      "outputs": []
    },
    {
      "cell_type": "code",
      "source": [
        "sample_words = ['always','basement', 'darkest','leader','pay']"
      ],
      "metadata": {
        "id": "lrYgsnqEjKlm"
      },
      "execution_count": null,
      "outputs": []
    },
    {
      "cell_type": "code",
      "source": [
        "def compute_final_word_cbow(sim,vocab,num):\n",
        "  similar = sorted(zip(sim, vocab),reverse=True)[:num]\n",
        "  final_words = []\n",
        "  for similarity, word in similar:\n",
        "    final_words.append(word)\n",
        "    print(word,similarity)\n",
        "  print('')\n",
        "  return final_words\n",
        "\n",
        "def similarity_cbow(word2Ind,w,model,vocab,num=10):\n",
        "  sim = []\n",
        "  words = []\n",
        "  vec = model(word2Ind[w])\n",
        "\n",
        "  for w in vocab:\n",
        "    wvec = model(word2Ind[w])\n",
        "    sim.append(1.0 - scipy.spatial.distance.cosine(wvec,vec))\n",
        "  return compute_final_word_cbow(sim,vocab,num)"
      ],
      "metadata": {
        "id": "oCs4ATsJi7wE"
      },
      "execution_count": null,
      "outputs": []
    },
    {
      "cell_type": "code",
      "source": [
        "similarity = dict()\n",
        "similar_word = []\n",
        "for w in sample_words:\n",
        "  similarity[w] =  similarity_cbow(word2Ind,w,embedding_layer,vocab,num=10)\n",
        "  similar_word.extend(similarity[w])"
      ],
      "metadata": {
        "colab": {
          "base_uri": "https://localhost:8080/"
        },
        "id": "__H9vzehi-vJ",
        "outputId": "2c5dc0b0-8405-4ba5-bbf3-24494fe2c1d3"
      },
      "execution_count": null,
      "outputs": [
        {
          "output_type": "stream",
          "name": "stdout",
          "text": [
            "always 1.0\n",
            "outfits 0.5313782691955566\n",
            "demagnetization 0.5117654800415039\n",
            "ergonimaclly 0.5054018497467041\n",
            "jukeboxes 0.5052174925804138\n",
            "emagazines 0.4931686520576477\n",
            "croaked 0.490444153547287\n",
            "lithiums 0.4890112280845642\n",
            "extracts 0.4781128168106079\n",
            "quickoffice 0.4644654095172882\n",
            "\n",
            "basement 1.0\n",
            "inadequate 0.5313094854354858\n",
            "ui 0.5118705630302429\n",
            "human 0.49932152032852173\n",
            "diskettes 0.4898269474506378\n",
            "incl 0.482428640127182\n",
            "touchnooter 0.48107320070266724\n",
            "wheresmyrebate 0.4693569242954254\n",
            "cx 0.4622194766998291\n",
            "unreserved 0.4534768760204315\n",
            "\n",
            "darkest 1.0\n",
            "bleeding 0.5391285419464111\n",
            "cook 0.5149738788604736\n",
            "carter 0.5050573945045471\n",
            "woofer 0.4817601442337036\n",
            "sympathetic 0.4797098636627197\n",
            "swirl 0.4783117473125458\n",
            "mouse 0.46413734555244446\n",
            "doublets 0.4619845747947693\n",
            "guilty 0.45918598771095276\n",
            "\n",
            "leader 1.0\n",
            "gettingusb 0.5978992581367493\n",
            "multilayer 0.5507175922393799\n",
            "revel 0.5202323794364929\n",
            "imaging 0.4736235439777374\n",
            "dominican 0.4734865427017212\n",
            "riva 0.47305166721343994\n",
            "mkiii 0.4629632234573364\n",
            "surgemaster 0.4621712565422058\n",
            "restrooms 0.4565834403038025\n",
            "\n",
            "pay 1.0\n",
            "refine 0.5650058388710022\n",
            "assist 0.5201017260551453\n",
            "unreadable 0.49057677388191223\n",
            "ecstatic 0.48178568482398987\n",
            "water 0.4814148545265198\n",
            "birce 0.46781620383262634\n",
            "ricoh 0.4642798900604248\n",
            "dvds 0.4624956548213959\n",
            "preferible 0.45023980736732483\n",
            "\n"
          ]
        }
      ]
    },
    {
      "cell_type": "markdown",
      "source": [
        "10 nearest word for word 'camera' using cbow model"
      ],
      "metadata": {
        "id": "MICqUZm6QxJ6"
      }
    },
    {
      "cell_type": "code",
      "source": [
        "similarity[w] =  similarity_cbow(word2Ind,'camera',embedding_layer,vocab,num=10)\n",
        "similar_word.extend(similarity[w])"
      ],
      "metadata": {
        "colab": {
          "base_uri": "https://localhost:8080/"
        },
        "id": "SV_ipV-FOWiH",
        "outputId": "d1675f51-90c1-4108-82ba-42d525cb0e78"
      },
      "execution_count": null,
      "outputs": [
        {
          "output_type": "stream",
          "name": "stdout",
          "text": [
            "camera 1.0\n",
            "geography 0.49916425347328186\n",
            "award 0.49798595905303955\n",
            "automatcially 0.49518898129463196\n",
            "carryable 0.49262094497680664\n",
            "settled 0.47833219170570374\n",
            "higly 0.47606948018074036\n",
            "actives 0.46999391913414\n",
            "roundish 0.46856632828712463\n",
            "adquate 0.464630663394928\n",
            "\n"
          ]
        }
      ]
    }
  ],
  "metadata": {
    "colab": {
      "name": "word_embedding_model.ipynb",
      "provenance": [],
      "collapsed_sections": []
    },
    "kernelspec": {
      "display_name": "Python 3",
      "name": "python3"
    },
    "language_info": {
      "name": "python"
    }
  },
  "nbformat": 4,
  "nbformat_minor": 0
}